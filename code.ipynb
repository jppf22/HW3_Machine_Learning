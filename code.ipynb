{
 "cells": [
  {
   "cell_type": "markdown",
   "metadata": {},
   "source": [
    "# Homework 3 - Programming Section Notebook"
   ]
  },
  {
   "cell_type": "markdown",
   "metadata": {},
   "source": [
    "## Context\n",
    "\n",
    "Given a dataset of 5875 patients showcasing different medical metrics related to Parkinson's diagnostic.\n",
    "We must create a predictor for this disease that scores the likelihood according to the Unified Parkinson's Disease Rating Scale"
   ]
  },
  {
   "cell_type": "code",
   "execution_count": 29,
   "metadata": {},
   "outputs": [],
   "source": [
    "import numpy as np\n",
    "import pandas as pd\n",
    "import matplotlib.pyplot as plt\n",
    "import seaborn as sns\n",
    "\n",
    "dataset_file_path = \"parkinsons.csv\"\n",
    "\n",
    "data_df = pd.read_csv(dataset_file_path)\n",
    "\n",
    "X = data_df.drop(\"target\", axis=1)\n",
    "y = data_df[\"target\"]"
   ]
  },
  {
   "cell_type": "markdown",
   "metadata": {},
   "source": [
    "## 5 - Mean Absolute Error across different regression models (Linear, MLP no activation, MLP with ReLU activation)"
   ]
  },
  {
   "cell_type": "markdown",
   "metadata": {},
   "source": [
    "## 6 - Importance of activation functions in MLP"
   ]
  },
  {
   "cell_type": "markdown",
   "metadata": {},
   "source": [
    "## 7 - Mean Absolute Error across different hyperparameters combinations for a MLP regressor"
   ]
  }
 ],
 "metadata": {
  "kernelspec": {
   "display_name": "Projeto_Aprendizagem",
   "language": "python",
   "name": "python3"
  },
  "language_info": {
   "codemirror_mode": {
    "name": "ipython",
    "version": 3
   },
   "file_extension": ".py",
   "mimetype": "text/x-python",
   "name": "python",
   "nbconvert_exporter": "python",
   "pygments_lexer": "ipython3",
   "version": "3.12.5"
  }
 },
 "nbformat": 4,
 "nbformat_minor": 2
}
